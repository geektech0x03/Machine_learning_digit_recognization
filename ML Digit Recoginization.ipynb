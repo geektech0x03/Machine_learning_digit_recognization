{
 "cells": [
  {
   "cell_type": "code",
   "execution_count": 1,
   "metadata": {},
   "outputs": [],
   "source": [
    "from sklearn.datasets import fetch_openml\n",
    "from sklearn.neighbors import KNeighborsClassifier\n",
    "import matplotlib.pyplot as plt\n",
    "import matplotlib\n",
    "import numpy as np\n",
    "mnist = fetch_openml('mnist_784')"
   ]
  },
  {
   "cell_type": "code",
   "execution_count": 2,
   "metadata": {},
   "outputs": [
    {
     "data": {
      "text/plain": [
       "(-0.5, 27.5, 27.5, -0.5)"
      ]
     },
     "execution_count": 2,
     "metadata": {},
     "output_type": "execute_result"
    },
    {
     "data": {
      "image/png": "[encoded data removed]",
      "text/plain": [
       "<Figure size 432x288 with 1 Axes>"
      ]
     },
     "metadata": {
      "needs_background": "light"
     },
     "output_type": "display_data"
    }
   ],
   "source": [
    "x = mnist.data\n",
    "y = mnist.target\n",
    "x_train = x[:800]\n",
    "x_test = x[800:1000]\n",
    "y_train = y[:800]\n",
    "y_test = y[800:1000]\n",
    "some_digit = x[904]\n",
    "image = some_digit.reshape(28, 28)\n",
    "plt.imshow(image, cmap=matplotlib.cm.binary, interpolation=\"nearest\")\n",
    "plt.axis(\"off\")"
   ]
  },
  {
   "cell_type": "code",
   "execution_count": 3,
   "metadata": {},
   "outputs": [
    {
     "name": "stdout",
     "output_type": "stream",
     "text": [
      "['9' '4' '6' '7' '4' '5' '9' '1' '1' '1' '6' '3' '9' '2' '2' '5' '6' '8'\n",
      " '0' '7' '9' '1' '9' '8' '7' '0' '4' '9' '4' '6' '2' '8' '5' '1' '4' '1'\n",
      " '5' '5' '1' '7' '3' '6' '0' '3' '0' '5' '6' '4' '4' '0' '6' '4' '6' '7'\n",
      " '9' '4' '3' '3' '1' '0' '0' '3' '2' '4' '1' '8' '2' '3' '7' '0' '1' '1'\n",
      " '0' '2' '3' '3' '1' '4' '3' '5' '7' '6' '4' '7' '1' '8' '5' '9' '9' '0'\n",
      " '3' '1' '1' '2' '4' '3' '4' '4' '7' '5' '4' '6' '0' '0' '7' '1' '4' '2'\n",
      " '7' '3' '0' '7' '5' '8' '4' '5' '6' '2' '1' '1' '1' '5' '1' '8' '3' '8'\n",
      " '4' '0' '7' '9' '9' '2' '9' '7' '7' '5' '7' '4' '1' '6' '9' '1' '7' '9'\n",
      " '6' '4' '8' '5' '1' '0' '7' '1' '0' '3' '7' '6' '5' '0' '6' '1' '5' '1'\n",
      " '7' '8' '5' '0' '6' '4' '7' '7' '3' '7' '8' '6' '9' '3' '8' '6' '1' '0'\n",
      " '9' '7' '1' '3' '0' '5' '6' '4' '4' '2' '4' '5' '3' '1' '7' '7' '6' '0'\n",
      " '3' '6']\n",
      "['9' '2' '6' '7' '4' '5' '9' '2' '3' '1' '6' '3' '9' '2' '2' '5' '6' '8'\n",
      " '0' '7' '7' '1' '9' '8' '7' '0' '9' '9' '4' '6' '2' '8' '5' '1' '4' '1'\n",
      " '5' '5' '1' '7' '3' '6' '4' '3' '2' '5' '6' '4' '4' '0' '4' '4' '6' '7'\n",
      " '2' '4' '3' '3' '8' '0' '0' '3' '2' '2' '9' '8' '2' '3' '7' '0' '1' '1'\n",
      " '0' '2' '3' '3' '8' '4' '3' '5' '7' '6' '4' '7' '7' '8' '5' '9' '7' '0'\n",
      " '3' '1' '6' '2' '4' '3' '4' '4' '7' '5' '9' '6' '9' '0' '7' '1' '4' '2'\n",
      " '7' '3' '6' '7' '5' '8' '4' '5' '5' '2' '7' '1' '1' '5' '6' '8' '5' '8'\n",
      " '4' '0' '7' '9' '9' '2' '9' '7' '7' '8' '7' '4' '2' '6' '9' '1' '7' '0'\n",
      " '6' '4' '2' '5' '7' '0' '7' '1' '0' '3' '7' '6' '5' '0' '6' '1' '5' '1'\n",
      " '7' '8' '5' '0' '3' '4' '7' '7' '5' '7' '8' '6' '9' '3' '8' '6' '1' '0'\n",
      " '9' '7' '1' '3' '0' '5' '6' '4' '4' '2' '4' '4' '3' '1' '7' '7' '6' '0'\n",
      " '3' '6']\n"
     ]
    }
   ],
   "source": [
    "shuffel_index = np.random.permutation(600)\n",
    "x_train = x_train[shuffel_index]\n",
    "y_train = y_train[shuffel_index]\n",
    "clf = KNeighborsClassifier()\n",
    "clf.fit(x_train, y_train)\n",
    "Prediction = clf.predict(x_test)\n",
    "print (Prediction)\n",
    "print (y_test)"
   ]
  },
  {
   "cell_type": "code",
   "execution_count": 4,
   "metadata": {},
   "outputs": [
    {
     "name": "stdout",
     "output_type": "stream",
     "text": [
      "85.0\n"
     ]
    }
   ],
   "source": [
    "i = -1\n",
    "accuracy = 0\n",
    "y_len = len(y_test)\n",
    "while (i < y_len):\n",
    "    if (Prediction[i] == y_test[i]):\n",
    "        accuracy += 1\n",
    "    i += 1\n",
    "accuracy = accuracy/y_len*100\n",
    "print (accuracy)"
   ]
  },
  {
   "cell_type": "code",
   "execution_count": null,
   "metadata": {},
   "outputs": [],
   "source": []
  }
 ],
 "metadata": {
  "kernelspec": {
   "display_name": "Python 3",
   "language": "python",
   "name": "python3"
  },
  "language_info": {
   "codemirror_mode": {
    "name": "ipython",
    "version": 3
   },
   "file_extension": ".py",
   "mimetype": "text/x-python",
   "name": "python",
   "nbconvert_exporter": "python",
   "pygments_lexer": "ipython3",
   "version": "3.8.3"
  }
 },
 "nbformat": 4,
 "nbformat_minor": 4
}
